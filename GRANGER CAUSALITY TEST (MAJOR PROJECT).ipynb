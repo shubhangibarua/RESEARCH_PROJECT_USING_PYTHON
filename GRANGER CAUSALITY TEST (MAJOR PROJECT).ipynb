{
 "cells": [
  {
   "cell_type": "markdown",
   "id": "2cfdcf63",
   "metadata": {},
   "source": [
    "Step 1: Test each of the time-series to determine their order of integration. Ideally, this should involve using a test (such as the ADF test) for which the null hypothesis is non-stationarity; as well as a test (such as the KPSS test) for which the null is stationarity. It’s good to have a cross-check"
   ]
  },
  {
   "cell_type": "code",
   "execution_count": 22,
   "id": "3b4171cc",
   "metadata": {},
   "outputs": [],
   "source": [
    "import pandas as pd\n",
    "import numpy as np\n",
    "import matplotlib.pyplot as plt\n",
    "from statsmodels.tsa.stattools import adfuller\n",
    "from scipy import stats\n",
    "from statsmodels.tsa.api import VAR\n",
    "from statsmodels.tools.eval_measures import rmse, aic\n",
    "import pickle"
   ]
  },
  {
   "cell_type": "code",
   "execution_count": 23,
   "id": "d6c0fde3",
   "metadata": {},
   "outputs": [
    {
     "name": "stdout",
     "output_type": "stream",
     "text": [
      "C:\\Users\\HP\\Desktop\\SHUBHANGI\\MAJOR PROJECT\n"
     ]
    }
   ],
   "source": [
    "import io\n",
    "%cd \"C:\\Users\\HP\\Desktop\\SHUBHANGI\\MAJOR PROJECT\""
   ]
  },
  {
   "cell_type": "code",
   "execution_count": 24,
   "id": "41391681",
   "metadata": {},
   "outputs": [],
   "source": [
    "data = pd.read_csv(\"FINAL DATA.csv\", index_col='DATE')\n"
   ]
  },
  {
   "cell_type": "code",
   "execution_count": 25,
   "id": "19ab4986",
   "metadata": {},
   "outputs": [
    {
     "data": {
      "text/html": [
       "<div>\n",
       "<style scoped>\n",
       "    .dataframe tbody tr th:only-of-type {\n",
       "        vertical-align: middle;\n",
       "    }\n",
       "\n",
       "    .dataframe tbody tr th {\n",
       "        vertical-align: top;\n",
       "    }\n",
       "\n",
       "    .dataframe thead th {\n",
       "        text-align: right;\n",
       "    }\n",
       "</style>\n",
       "<table border=\"1\" class=\"dataframe\">\n",
       "  <thead>\n",
       "    <tr style=\"text-align: right;\">\n",
       "      <th></th>\n",
       "      <th>GDP</th>\n",
       "      <th>IMPORTS</th>\n",
       "      <th>EXPORTS</th>\n",
       "      <th>ECONOMIC GROWTH</th>\n",
       "    </tr>\n",
       "    <tr>\n",
       "      <th>DATE</th>\n",
       "      <th></th>\n",
       "      <th></th>\n",
       "      <th></th>\n",
       "      <th></th>\n",
       "    </tr>\n",
       "  </thead>\n",
       "  <tbody>\n",
       "    <tr>\n",
       "      <th>30-06-2000</th>\n",
       "      <td>3852.54</td>\n",
       "      <td>1052.5440</td>\n",
       "      <td>851.0805</td>\n",
       "      <td>-0.970821</td>\n",
       "    </tr>\n",
       "    <tr>\n",
       "      <th>30-09-2000</th>\n",
       "      <td>3986.94</td>\n",
       "      <td>1046.7879</td>\n",
       "      <td>908.6415</td>\n",
       "      <td>-0.097240</td>\n",
       "    </tr>\n",
       "    <tr>\n",
       "      <th>31-12-2000</th>\n",
       "      <td>4152.55</td>\n",
       "      <td>1064.0562</td>\n",
       "      <td>902.8854</td>\n",
       "      <td>0.111344</td>\n",
       "    </tr>\n",
       "    <tr>\n",
       "      <th>31-03-2001</th>\n",
       "      <td>4269.13</td>\n",
       "      <td>994.9830</td>\n",
       "      <td>960.4464</td>\n",
       "      <td>1.975735</td>\n",
       "    </tr>\n",
       "    <tr>\n",
       "      <th>30-06-2001</th>\n",
       "      <td>4282.93</td>\n",
       "      <td>1050.8994</td>\n",
       "      <td>851.9028</td>\n",
       "      <td>-4.338040</td>\n",
       "    </tr>\n",
       "    <tr>\n",
       "      <th>...</th>\n",
       "      <td>...</td>\n",
       "      <td>...</td>\n",
       "      <td>...</td>\n",
       "      <td>...</td>\n",
       "    </tr>\n",
       "    <tr>\n",
       "      <th>31-12-2021</th>\n",
       "      <td>38507.72</td>\n",
       "      <td>13723.3647</td>\n",
       "      <td>8637.4392</td>\n",
       "      <td>-19.584957</td>\n",
       "    </tr>\n",
       "    <tr>\n",
       "      <th>31-03-2022</th>\n",
       "      <td>41123.60</td>\n",
       "      <td>13824.5076</td>\n",
       "      <td>9151.3767</td>\n",
       "      <td>-5.342438</td>\n",
       "    </tr>\n",
       "    <tr>\n",
       "      <th>30-06-2022</th>\n",
       "      <td>37479.08</td>\n",
       "      <td>15609.7209</td>\n",
       "      <td>9806.7498</td>\n",
       "      <td>-22.973405</td>\n",
       "    </tr>\n",
       "    <tr>\n",
       "      <th>30-09-2022</th>\n",
       "      <td>38809.88</td>\n",
       "      <td>15568.6059</td>\n",
       "      <td>8686.7772</td>\n",
       "      <td>-14.811006</td>\n",
       "    </tr>\n",
       "    <tr>\n",
       "      <th>31-12-2022</th>\n",
       "      <td>40185.84</td>\n",
       "      <td>14045.7063</td>\n",
       "      <td>7914.6375</td>\n",
       "      <td>-12.252315</td>\n",
       "    </tr>\n",
       "  </tbody>\n",
       "</table>\n",
       "<p>91 rows × 4 columns</p>\n",
       "</div>"
      ],
      "text/plain": [
       "                 GDP     IMPORTS    EXPORTS  ECONOMIC GROWTH\n",
       "DATE                                                        \n",
       "30-06-2000   3852.54   1052.5440   851.0805        -0.970821\n",
       "30-09-2000   3986.94   1046.7879   908.6415        -0.097240\n",
       "31-12-2000   4152.55   1064.0562   902.8854         0.111344\n",
       "31-03-2001   4269.13    994.9830   960.4464         1.975735\n",
       "30-06-2001   4282.93   1050.8994   851.9028        -4.338040\n",
       "...              ...         ...        ...              ...\n",
       "31-12-2021  38507.72  13723.3647  8637.4392       -19.584957\n",
       "31-03-2022  41123.60  13824.5076  9151.3767        -5.342438\n",
       "30-06-2022  37479.08  15609.7209  9806.7498       -22.973405\n",
       "30-09-2022  38809.88  15568.6059  8686.7772       -14.811006\n",
       "31-12-2022  40185.84  14045.7063  7914.6375       -12.252315\n",
       "\n",
       "[91 rows x 4 columns]"
      ]
     },
     "execution_count": 25,
     "metadata": {},
     "output_type": "execute_result"
    }
   ],
   "source": [
    "data"
   ]
  },
  {
   "cell_type": "code",
   "execution_count": 26,
   "id": "348821e8",
   "metadata": {},
   "outputs": [
    {
     "data": {
      "text/plain": [
       "Index(['GDP', 'IMPORTS', 'EXPORTS', 'ECONOMIC GROWTH'], dtype='object')"
      ]
     },
     "execution_count": 26,
     "metadata": {},
     "output_type": "execute_result"
    }
   ],
   "source": [
    "data.columns"
   ]
  },
  {
   "cell_type": "code",
   "execution_count": 27,
   "id": "729c30e5",
   "metadata": {},
   "outputs": [
    {
     "data": {
      "image/png": "[encoded data removed]",
      "text/plain": [
       "<Figure size 1080x1080 with 4 Axes>"
      ]
     },
     "metadata": {
      "needs_background": "light"
     },
     "output_type": "display_data"
    }
   ],
   "source": [
    "from pandas.plotting import lag_plot\n",
    "   \n",
    "fig, axs = plt.subplots(2, 2, figsize=(15, 15))\n",
    "fig.tight_layout()\n",
    "\n",
    "variables = ['GDP', 'IMPORTS', 'EXPORTS', 'ECONOMIC GROWTH']\n",
    "\n",
    "for i, var in enumerate(variables):\n",
    "    row = i // 2\n",
    "    col = i % 2\n",
    "    lag_plot(data[var], ax=axs[row, col])\n",
    "    axs[row, col].set_title(var)\n",
    "\n",
    "plt.show()\n"
   ]
  },
  {
   "cell_type": "markdown",
   "id": "f40e7096",
   "metadata": {},
   "source": [
    "Result: Data is not stationary. We will have to make it stationary using difference operation"
   ]
  },
  {
   "cell_type": "code",
   "execution_count": 28,
   "id": "0a30b8d5",
   "metadata": {},
   "outputs": [],
   "source": [
    "#difference operation for stationarity\n",
    "rawData = data.copy(deep=True)"
   ]
  },
  {
   "cell_type": "code",
   "execution_count": 29,
   "id": "04cc64fb",
   "metadata": {},
   "outputs": [],
   "source": [
    "data['GDP'] = data['GDP'] - data['GDP'].shift(1)\n",
    "data['IMPORTS'] = data['IMPORTS'] - data['IMPORTS'].shift(1)\n",
    "data['EXPORTS'] = data['EXPORTS'] - data['EXPORTS'].shift(1)\n",
    "data['ECONOMIC GROWTH'] = data['ECONOMIC GROWTH'] - data['ECONOMIC GROWTH'].shift(1)\n",
    "data = data.dropna()"
   ]
  },
  {
   "cell_type": "code",
   "execution_count": 30,
   "id": "5281ff23",
   "metadata": {},
   "outputs": [],
   "source": [
    "# split data into train and test. We will need this later for VAR analysis\n",
    "msk = np.random.rand(len(data)) < 0.8\n",
    "train = data[msk]\n",
    "test = data[~msk]"
   ]
  },
  {
   "cell_type": "code",
   "execution_count": 31,
   "id": "097dcfbc",
   "metadata": {},
   "outputs": [
    {
     "name": "stdout",
     "output_type": "stream",
     "text": [
      "ADF Statistic for GDP: -8.975147154274186\n",
      "p-value for GDP: 7.567286293063561e-15\n",
      "Critical Values:\n",
      "\t1%: -3.506\n",
      "\t5%: -2.895\n",
      "\t10%: -2.584\n",
      "ADF Statistic for IMPORTS: -8.893962378001078\n",
      "p-value for IMPORTS: 1.2210949664540267e-14\n",
      "Critical Values:\n",
      "\t1%: -3.506\n",
      "\t5%: -2.895\n",
      "\t10%: -2.584\n",
      "ADF Statistic for EXPORTS: -10.17906415935717\n",
      "p-value for EXPORTS: 6.770116880475284e-18\n",
      "Critical Values:\n",
      "\t1%: -3.506\n",
      "\t5%: -2.895\n",
      "\t10%: -2.584\n",
      "ADF Statistic for ECONOMIC GROWTH: -3.6637781474624087\n",
      "p-value for ECONOMIC GROWTH: 0.0046524759203848\n",
      "Critical Values:\n",
      "\t1%: -3.513\n",
      "\t5%: -2.897\n",
      "\t10%: -2.586\n"
     ]
    }
   ],
   "source": [
    "## ADF Null hypothesis: there is a unit root, meaning series is non-stationary\n",
    "from statsmodels.tsa.stattools import adfuller\n",
    "import numpy as np\n",
    "import pandas as pd\n",
    "\n",
    "variables = ['GDP', 'IMPORTS', 'EXPORTS', 'ECONOMIC GROWTH']\n",
    "\n",
    "for var in variables:\n",
    "    X = np.array(data[var])\n",
    "    X = X[~np.isnan(X)]\n",
    "\n",
    "    result = adfuller(X)\n",
    "    print(f'ADF Statistic for {var}: {result[0]}')\n",
    "    print(f'p-value for {var}: {result[1]}')\n",
    "    print('Critical Values:')\n",
    "    for key, value in result[4].items():\n",
    "        print(f'\\t{key}: {value:.3f}')"
   ]
  },
  {
   "cell_type": "code",
   "execution_count": 33,
   "id": "3b04272c",
   "metadata": {},
   "outputs": [
    {
     "name": "stdout",
     "output_type": "stream",
     "text": [
      "KPSS Statistic: 0.10073766565655115\n",
      "p-value: 0.1\n",
      "num lags: 12\n",
      "Critial Values:\n",
      "   10% : 0.347\n",
      "   5% : 0.463\n",
      "   2.5% : 0.574\n",
      "   1% : 0.739\n",
      "Result: The series is stationary\n",
      "KPSS Statistic: 0.08857972131592963\n",
      "p-value: 0.1\n",
      "num lags: 12\n",
      "Critial Values:\n",
      "   10% : 0.347\n",
      "   5% : 0.463\n",
      "   2.5% : 0.574\n",
      "   1% : 0.739\n",
      "Result: The series is stationary\n",
      "KPSS Statistic: 0.08692253693060918\n",
      "p-value: 0.1\n",
      "num lags: 12\n",
      "Critial Values:\n",
      "   10% : 0.347\n",
      "   5% : 0.463\n",
      "   2.5% : 0.574\n",
      "   1% : 0.739\n",
      "Result: The series is stationary\n",
      "KPSS Statistic: 0.08928477468481884\n",
      "p-value: 0.1\n",
      "num lags: 12\n",
      "Critial Values:\n",
      "   10% : 0.347\n",
      "   5% : 0.463\n",
      "   2.5% : 0.574\n",
      "   1% : 0.739\n",
      "Result: The series is stationary\n"
     ]
    },
    {
     "name": "stderr",
     "output_type": "stream",
     "text": [
      "C:\\Users\\HP\\anaconda3\\lib\\site-packages\\statsmodels\\tsa\\stattools.py:1875: FutureWarning: The behavior of using nlags=None will change in release 0.13.Currently nlags=None is the same as nlags=\"legacy\", and so a sample-size lag length is used. After the next release, the default will change to be the same as nlags=\"auto\" which uses an automatic lag length selection method. To silence this warning, either use \"auto\" or \"legacy\"\n",
      "  warnings.warn(msg, FutureWarning)\n",
      "C:\\Users\\HP\\anaconda3\\lib\\site-packages\\statsmodels\\tsa\\stattools.py:1910: InterpolationWarning: The test statistic is outside of the range of p-values available in the\n",
      "look-up table. The actual p-value is greater than the p-value returned.\n",
      "\n",
      "  warnings.warn(\n",
      "C:\\Users\\HP\\anaconda3\\lib\\site-packages\\statsmodels\\tsa\\stattools.py:1910: InterpolationWarning: The test statistic is outside of the range of p-values available in the\n",
      "look-up table. The actual p-value is greater than the p-value returned.\n",
      "\n",
      "  warnings.warn(\n",
      "C:\\Users\\HP\\anaconda3\\lib\\site-packages\\statsmodels\\tsa\\stattools.py:1910: InterpolationWarning: The test statistic is outside of the range of p-values available in the\n",
      "look-up table. The actual p-value is greater than the p-value returned.\n",
      "\n",
      "  warnings.warn(\n",
      "C:\\Users\\HP\\anaconda3\\lib\\site-packages\\statsmodels\\tsa\\stattools.py:1910: InterpolationWarning: The test statistic is outside of the range of p-values available in the\n",
      "look-up table. The actual p-value is greater than the p-value returned.\n",
      "\n",
      "  warnings.warn(\n"
     ]
    }
   ],
   "source": [
    "## KPSS Null hypothesis: there is a no unit root, meaning series is stationary\n",
    "from statsmodels.tsa.stattools import kpss\n",
    "\n",
    "# assuming 'data' is a pandas DataFrame containing the 4 variables\n",
    "variables = ['GDP', 'IMPORTS', 'EXPORTS', 'ECONOMIC GROWTH']\n",
    "\n",
    "for var in variables:\n",
    "    X = np.array(data[var])\n",
    "    X = X[~np.isnan(X)]\n",
    "\n",
    "    statistic, p_value, n_lags, critical_values = kpss(X)\n",
    "    \n",
    "    # Format Output\n",
    "    print(f'KPSS Statistic: {statistic}')\n",
    "    print(f'p-value: {p_value}')\n",
    "    print(f'num lags: {n_lags}')\n",
    "    print('Critial Values:')\n",
    "    for key, value in critical_values.items():\n",
    "        print(f'   {key} : {value}')\n",
    "    print(f'Result: The series is {\"not \" if p_value < 0.05 else \"\"}stationary')"
   ]
  },
  {
   "cell_type": "markdown",
   "id": "735c3db8",
   "metadata": {},
   "source": [
    "Result: ADF Null Hypothesis is rejected: Thus, data is stationary \n",
    "        KPSS Null Hypothesis could not be rejected. Thus, data is stationary"
   ]
  },
  {
   "cell_type": "code",
   "execution_count": 34,
   "id": "f1439413",
   "metadata": {},
   "outputs": [
    {
     "data": {
      "image/png": "[encoded data removed]",
      "text/plain": [
       "<Figure size 1080x1080 with 4 Axes>"
      ]
     },
     "metadata": {
      "needs_background": "light"
     },
     "output_type": "display_data"
    }
   ],
   "source": [
    "fig, axs = plt.subplots(2, 2, figsize=(15, 15))\n",
    "fig.tight_layout()\n",
    "\n",
    "variables = ['GDP', 'IMPORTS', 'EXPORTS', 'ECONOMIC GROWTH']\n",
    "\n",
    "for i, var in enumerate(variables):\n",
    "    row = i // 2\n",
    "    col = i % 2\n",
    "    lag_plot(data[var], ax=axs[row, col])\n",
    "    axs[row, col].set_title(var)\n",
    "\n",
    "plt.show()"
   ]
  },
  {
   "cell_type": "markdown",
   "id": "a2ed4b15",
   "metadata": {},
   "source": [
    "Result: lag plot is in confirmatory with ADF test and KPSS test\n",
    "\n"
   ]
  },
  {
   "cell_type": "markdown",
   "id": "477668f8",
   "metadata": {},
   "source": [
    "Step 2: Let the maximum order of integration for the group of time-series be m. So, if there are two time-series and one is found to be I(1) and the other is I(2), then m = 2. If one is I(0) and the other is I(1), then m = 1, etc."
   ]
  },
  {
   "cell_type": "markdown",
   "id": "bc5e3a1c",
   "metadata": {},
   "source": [
    "Result: We saw above that for our case m = 4\n",
    "\n"
   ]
  },
  {
   "cell_type": "markdown",
   "id": "c2494dfa",
   "metadata": {},
   "source": [
    "Step 3: Set up a VAR model in the levels of the data, regardless of the orders of integration of the various time-series. Most importantly, you must not difference the data, no matter what you found at Step 1.//"
   ]
  },
  {
   "cell_type": "markdown",
   "id": "108f72ac",
   "metadata": {},
   "source": [
    "Step 4: Determine the appropriate maximum lag length for the variables in the VAR, say p, using the usual methods. Specifically, base the choice of p on the usual information criteria, such as AIC, SIC.\n",
    "\n"
   ]
  },
  {
   "cell_type": "code",
   "execution_count": 35,
   "id": "542ac764",
   "metadata": {},
   "outputs": [
    {
     "name": "stdout",
     "output_type": "stream",
     "text": [
      "Lag Order = 1\n",
      "AIC :  42.22056963722885\n",
      "BIC :  42.776082897302246\n",
      "FPE :  2.1694985531093258e+18\n",
      "HQIC:  42.444585237406464 \n",
      "\n",
      "Lag Order = 2\n",
      "AIC :  41.74094334531459\n",
      "BIC :  42.747582775768045\n",
      "FPE :  1.3460660258011986e+18\n",
      "HQIC:  42.14669081192391 \n",
      "\n",
      "Lag Order = 3\n",
      "AIC :  41.67742516840374\n",
      "BIC :  43.14130601332268\n",
      "FPE :  1.2707470119208614e+18\n",
      "HQIC:  42.26718601494389 \n",
      "\n",
      "Lag Order = 4\n",
      "AIC :  41.718729639638134\n",
      "BIC :  43.64610610019574\n",
      "FPE :  1.339856077453114e+18\n",
      "HQIC:  42.49482470673222 \n",
      "\n",
      "Lag Order = 5\n",
      "AIC :  41.637169312429094\n",
      "BIC :  44.03443876458368\n",
      "FPE :  1.2597528169676122e+18\n",
      "HQIC:  42.60195920414758 \n",
      "\n",
      "Lag Order = 6\n",
      "AIC :  41.62080881944714\n",
      "BIC :  44.494516180023986\n",
      "FPE :  1.2787450705322074e+18\n",
      "HQIC:  42.77669429726647 \n",
      "\n",
      "Lag Order = 7\n",
      "AIC :  41.26740902792005\n",
      "BIC :  44.62425127394177\n",
      "FPE :  9.410030727828408e+17\n",
      "HQIC:  42.61683135505808 \n",
      "\n",
      "Lag Order = 8\n",
      "AIC :  40.96020948470419\n",
      "BIC :  44.80704033083854\n",
      "FPE :  7.40243318502869e+17\n",
      "HQIC:  42.5056507126415 \n",
      "\n",
      "Lag Order = 9\n",
      "AIC :  40.832851800506084\n",
      "BIC :  45.176686539470836\n",
      "FPE :  7.1634602216239e+17\n",
      "HQIC:  42.576834988449875 \n",
      "\n",
      "Lag Order = 10\n",
      "AIC :  40.691674537094\n",
      "BIC :  45.53969504778882\n",
      "FPE :  7.091604379639045e+17\n",
      "HQIC:  42.63676389395328 \n",
      "\n",
      "Lag Order = 11\n",
      "AIC :  40.74182715880277\n",
      "BIC :  46.101387086819\n",
      "FPE :  8.932919571523448e+17\n",
      "HQIC:  42.8906280959009 \n",
      "\n",
      "Lag Order = 12\n",
      "AIC :  40.75884605169745\n",
      "BIC :  46.63747616667892\n",
      "FPE :  1.1660483928614597e+18\n",
      "HQIC:  43.11400513292957 \n",
      "\n"
     ]
    },
    {
     "name": "stderr",
     "output_type": "stream",
     "text": [
      "C:\\Users\\HP\\anaconda3\\lib\\site-packages\\statsmodels\\tsa\\base\\tsa_model.py:524: ValueWarning: No frequency information was provided, so inferred frequency Q-DEC will be used.\n",
      "  warnings.warn('No frequency information was'\n"
     ]
    }
   ],
   "source": [
    "# obtain the lag P for VAR\n",
    "rawData = rawData.dropna()\n",
    "model = VAR(rawData) #recall that rawData is w/o difference operation\n",
    "for i in [1,2,3,4,5,6,7,8,9,10,11,12]:\n",
    "    result = model.fit(i)\n",
    "    try:\n",
    "        print('Lag Order =', i)\n",
    "        print('AIC : ', result.aic)\n",
    "        print('BIC : ', result.bic)\n",
    "        print('FPE : ', result.fpe)\n",
    "        print('HQIC: ', result.hqic, '\\n')\n",
    "    except:\n",
    "        continue\n"
   ]
  },
  {
   "cell_type": "markdown",
   "id": "7c9de9af",
   "metadata": {},
   "source": [
    "Result: The lag-order p = 10 on the basis of Akaike Information Criterion (AIC)\n",
    "\n",
    "Step 5: Make sure that the VAR is well-specified. For example, ensure that there is no serial correlation in the residuals. If need be, increase p until any autocorrelation issues are resolved.\n",
    "\n"
   ]
  },
  {
   "cell_type": "code",
   "execution_count": 36,
   "id": "86419ed9",
   "metadata": {},
   "outputs": [
    {
     "name": "stderr",
     "output_type": "stream",
     "text": [
      "C:\\Users\\HP\\anaconda3\\lib\\site-packages\\statsmodels\\tsa\\base\\tsa_model.py:581: ValueWarning: A date index has been provided, but it has no associated frequency information and so will be ignored when e.g. forecasting.\n",
      "  warnings.warn('A date index has been provided, but it has no'\n"
     ]
    },
    {
     "data": {
      "text/plain": [
       "  Summary of Regression Results   \n",
       "==================================\n",
       "Model:                         VAR\n",
       "Method:                        OLS\n",
       "Date:           Tue, 14, Mar, 2023\n",
       "Time:                     17:35:53\n",
       "--------------------------------------------------------------------\n",
       "No. of Equations:         4.00000    BIC:                    48.5431\n",
       "Nobs:                     66.0000    HQIC:                   45.2522\n",
       "Log likelihood:          -1632.97    FPE:                1.22041e+19\n",
       "AIC:                      43.1022    Det(Omega_mle):     1.76663e+18\n",
       "--------------------------------------------------------------------\n",
       "Results for equation GDP\n",
       "======================================================================================\n",
       "                         coefficient       std. error           t-stat            prob\n",
       "--------------------------------------------------------------------------------------\n",
       "const                      -6.881177       901.202800           -0.008           0.994\n",
       "L1.GDP                      0.631600         0.290657            2.173           0.030\n",
       "L1.IMPORTS                  2.157505         0.751378            2.871           0.004\n",
       "L1.EXPORTS                 -0.791287         1.271686           -0.622           0.534\n",
       "L1.ECONOMIC GROWTH         80.500155       114.580281            0.703           0.482\n",
       "L2.GDP                     -0.552615         0.373556           -1.479           0.139\n",
       "L2.IMPORTS                 -0.707125         0.879694           -0.804           0.421\n",
       "L2.EXPORTS                 -0.146590         1.451227           -0.101           0.920\n",
       "L2.ECONOMIC GROWTH       -101.323327       140.296048           -0.722           0.470\n",
       "L3.GDP                      0.569327         0.366442            1.554           0.120\n",
       "L3.IMPORTS                  0.730219         0.921795            0.792           0.428\n",
       "L3.EXPORTS                 -0.963549         1.326711           -0.726           0.468\n",
       "L3.ECONOMIC GROWTH         20.487630       143.916170            0.142           0.887\n",
       "L4.GDP                     -0.502478         0.391869           -1.282           0.200\n",
       "L4.IMPORTS                  0.825909         0.881699            0.937           0.349\n",
       "L4.EXPORTS                 -0.677362         1.319204           -0.513           0.608\n",
       "L4.ECONOMIC GROWTH         13.025716       145.366637            0.090           0.929\n",
       "L5.GDP                      0.768801         0.417450            1.842           0.066\n",
       "L5.IMPORTS                 -0.844563         0.863777           -0.978           0.328\n",
       "L5.EXPORTS                  1.024200         1.313968            0.779           0.436\n",
       "L5.ECONOMIC GROWTH       -105.999612       148.601424           -0.713           0.476\n",
       "L6.GDP                     -0.562536         0.483612           -1.163           0.245\n",
       "L6.IMPORTS                  1.328619         1.038454            1.279           0.201\n",
       "L6.EXPORTS                 -1.366834         1.452852           -0.941           0.347\n",
       "L6.ECONOMIC GROWTH        112.140241       154.468645            0.726           0.468\n",
       "L7.GDP                      0.470517         0.578884            0.813           0.416\n",
       "L7.IMPORTS                 -0.358921         1.229532           -0.292           0.770\n",
       "L7.EXPORTS                  0.205323         1.568217            0.131           0.896\n",
       "L7.ECONOMIC GROWTH        -59.088935       173.943284           -0.340           0.734\n",
       "L8.GDP                      0.635645         1.179221            0.539           0.590\n",
       "L8.IMPORTS                 -1.547050         1.202176           -1.287           0.198\n",
       "L8.EXPORTS                  2.155525         1.586489            1.359           0.174\n",
       "L8.ECONOMIC GROWTH       -198.588926       177.668290           -1.118           0.264\n",
       "L9.GDP                     -1.520492         1.183512           -1.285           0.199\n",
       "L9.IMPORTS                  0.462649         1.154749            0.401           0.689\n",
       "L9.EXPORTS                  0.056278         1.621129            0.035           0.972\n",
       "L9.ECONOMIC GROWTH         54.086135       180.717272            0.299           0.765\n",
       "L10.GDP                     0.324120         1.165294            0.278           0.781\n",
       "L10.IMPORTS                -0.573120         0.925234           -0.619           0.536\n",
       "L10.EXPORTS                 1.777612         1.412950            1.258           0.208\n",
       "L10.ECONOMIC GROWTH        -1.133674       114.258315           -0.010           0.992\n",
       "======================================================================================\n",
       "\n",
       "Results for equation IMPORTS\n",
       "======================================================================================\n",
       "                         coefficient       std. error           t-stat            prob\n",
       "--------------------------------------------------------------------------------------\n",
       "const                     365.192274       456.196566            0.801           0.423\n",
       "L1.GDP                     -0.021566         0.147133           -0.147           0.883\n",
       "L1.IMPORTS                 -0.936512         0.380354           -2.462           0.014\n",
       "L1.EXPORTS                  1.782618         0.643739            2.769           0.006\n",
       "L1.ECONOMIC GROWTH        -47.837011        58.001519           -0.825           0.410\n",
       "L2.GDP                      0.056712         0.189097            0.300           0.764\n",
       "L2.IMPORTS                 -0.074980         0.445309           -0.168           0.866\n",
       "L2.EXPORTS                  0.963993         0.734623            1.312           0.189\n",
       "L2.ECONOMIC GROWTH         25.160698        71.019060            0.354           0.723\n",
       "L3.GDP                     -0.117901         0.185496           -0.636           0.525\n",
       "L3.IMPORTS                  0.157610         0.466620            0.338           0.736\n",
       "L3.EXPORTS                 -0.377338         0.671593           -0.562           0.574\n",
       "L3.ECONOMIC GROWTH         67.236700        72.851596            0.923           0.356\n",
       "L4.GDP                     -0.213635         0.198368           -1.077           0.281\n",
       "L4.IMPORTS                 -0.046535         0.446324           -0.104           0.917\n",
       "L4.EXPORTS                 -0.377385         0.667792           -0.565           0.572\n",
       "L4.ECONOMIC GROWTH         26.070987        73.585835            0.354           0.723\n",
       "L5.GDP                     -0.344634         0.211317           -1.631           0.103\n",
       "L5.IMPORTS                  1.071900         0.437251            2.451           0.014\n",
       "L5.EXPORTS                 -1.284955         0.665142           -1.932           0.053\n",
       "L5.ECONOMIC GROWTH        106.792629        75.223312            1.420           0.156\n",
       "L6.GDP                      0.095362         0.244809            0.390           0.697\n",
       "L6.IMPORTS                 -0.090087         0.525674           -0.171           0.864\n",
       "L6.EXPORTS                  0.551734         0.735446            0.750           0.453\n",
       "L6.ECONOMIC GROWTH         14.271461        78.193350            0.183           0.855\n",
       "L7.GDP                     -0.360860         0.293036           -1.231           0.218\n",
       "L7.IMPORTS                  0.009694         0.622400            0.016           0.988\n",
       "L7.EXPORTS                 -0.571755         0.793845           -0.720           0.471\n",
       "L7.ECONOMIC GROWTH         52.179569        88.051578            0.593           0.553\n",
       "L8.GDP                      1.369991         0.596932            2.295           0.022\n",
       "L8.IMPORTS                  0.078680         0.608552            0.129           0.897\n",
       "L8.EXPORTS                 -0.659975         0.803094           -0.822           0.411\n",
       "L8.ECONOMIC GROWTH        -78.395876        89.937208           -0.872           0.383\n",
       "L9.GDP                     -0.290740         0.599104           -0.485           0.627\n",
       "L9.IMPORTS                 -0.722679         0.584544           -1.236           0.216\n",
       "L9.EXPORTS                  0.523359         0.820629            0.638           0.524\n",
       "L9.ECONOMIC GROWTH       -102.807808        91.480629           -1.124           0.261\n",
       "L10.GDP                    -0.541690         0.589882           -0.918           0.358\n",
       "L10.IMPORTS                 0.030076         0.468362            0.064           0.949\n",
       "L10.EXPORTS                -0.458069         0.715247           -0.640           0.522\n",
       "L10.ECONOMIC GROWTH        19.706086        57.838536            0.341           0.733\n",
       "======================================================================================\n",
       "\n",
       "Results for equation EXPORTS\n",
       "======================================================================================\n",
       "                         coefficient       std. error           t-stat            prob\n",
       "--------------------------------------------------------------------------------------\n",
       "const                     407.921304       233.707208            1.745           0.081\n",
       "L1.GDP                     -0.107859         0.075375           -1.431           0.152\n",
       "L1.IMPORTS                 -0.306040         0.194853           -1.571           0.116\n",
       "L1.EXPORTS                  0.139712         0.329784            0.424           0.672\n",
       "L1.ECONOMIC GROWTH        -20.416141        29.713886           -0.687           0.492\n",
       "L2.GDP                     -0.111195         0.096874           -1.148           0.251\n",
       "L2.IMPORTS                  0.249334         0.228129            1.093           0.274\n",
       "L2.EXPORTS                  0.118817         0.376344            0.316           0.752\n",
       "L2.ECONOMIC GROWTH         45.063518        36.382707            1.239           0.215\n",
       "L3.GDP                     -0.076740         0.095029           -0.808           0.419\n",
       "L3.IMPORTS                  0.356680         0.239047            1.492           0.136\n",
       "L3.EXPORTS                 -0.200059         0.344054           -0.581           0.561\n",
       "L3.ECONOMIC GROWTH         57.447687        37.321507            1.539           0.124\n",
       "L4.GDP                     -0.135153         0.101623           -1.330           0.184\n",
       "L4.IMPORTS                  0.073863         0.228649            0.323           0.747\n",
       "L4.EXPORTS                 -0.429597         0.342107           -1.256           0.209\n",
       "L4.ECONOMIC GROWTH         27.646528        37.697654            0.733           0.463\n",
       "L5.GDP                     -0.222610         0.108256           -2.056           0.040\n",
       "L5.IMPORTS                  0.771186         0.224002            3.443           0.001\n",
       "L5.EXPORTS                 -1.144356         0.340749           -3.358           0.001\n",
       "L5.ECONOMIC GROWTH         61.193902        38.536525            1.588           0.112\n",
       "L6.GDP                      0.017328         0.125414            0.138           0.890\n",
       "L6.IMPORTS                  0.262484         0.269300            0.975           0.330\n",
       "L6.EXPORTS                 -0.202073         0.376765           -0.536           0.592\n",
       "L6.ECONOMIC GROWTH         25.558195        40.058060            0.638           0.523\n",
       "L7.GDP                     -0.081302         0.150121           -0.542           0.588\n",
       "L7.IMPORTS                  0.138602         0.318852            0.435           0.664\n",
       "L7.EXPORTS                 -0.387278         0.406683           -0.952           0.341\n",
       "L7.ECONOMIC GROWTH         43.291268        45.108381            0.960           0.337\n",
       "L8.GDP                      0.414415         0.305805            1.355           0.175\n",
       "L8.IMPORTS                  0.087540         0.311758            0.281           0.779\n",
       "L8.EXPORTS                 -0.476785         0.411421           -1.159           0.247\n",
       "L8.ECONOMIC GROWTH          3.318668        46.074380            0.072           0.943\n",
       "L9.GDP                      0.132783         0.306918            0.433           0.665\n",
       "L9.IMPORTS                 -0.175825         0.299459           -0.587           0.557\n",
       "L9.EXPORTS                  0.375883         0.420404            0.894           0.371\n",
       "L9.ECONOMIC GROWTH        -42.162375        46.865066           -0.900           0.368\n",
       "L10.GDP                    -0.314998         0.302194           -1.042           0.297\n",
       "L10.IMPORTS                -0.051596         0.239939           -0.215           0.830\n",
       "L10.EXPORTS                 0.140513         0.366418            0.383           0.701\n",
       "L10.ECONOMIC GROWTH       -12.275091        29.630392           -0.414           0.679\n",
       "======================================================================================\n",
       "\n",
       "Results for equation ECONOMIC GROWTH\n",
       "======================================================================================\n",
       "                         coefficient       std. error           t-stat            prob\n",
       "--------------------------------------------------------------------------------------\n",
       "const                      -0.428489         3.005022           -0.143           0.887\n",
       "L1.GDP                      0.002147         0.000969            2.216           0.027\n",
       "L1.IMPORTS                  0.004015         0.002505            1.603           0.109\n",
       "L1.EXPORTS                 -0.005845         0.004240           -1.378           0.168\n",
       "L1.ECONOMIC GROWTH         -0.485605         0.382063           -1.271           0.204\n",
       "L2.GDP                     -0.001607         0.001246           -1.290           0.197\n",
       "L2.IMPORTS                  0.001779         0.002933            0.606           0.544\n",
       "L2.EXPORTS                 -0.005114         0.004839           -1.057           0.291\n",
       "L2.ECONOMIC GROWTH         -0.183634         0.467811           -0.393           0.695\n",
       "L3.GDP                      0.000989         0.001222            0.809           0.418\n",
       "L3.IMPORTS                  0.003559         0.003074            1.158           0.247\n",
       "L3.EXPORTS                 -0.004043         0.004424           -0.914           0.361\n",
       "L3.ECONOMIC GROWTH          0.163917         0.479882            0.342           0.733\n",
       "L4.GDP                     -0.001491         0.001307           -1.141           0.254\n",
       "L4.IMPORTS                  0.003133         0.002940            1.066           0.287\n",
       "L4.EXPORTS                 -0.003460         0.004399           -0.786           0.432\n",
       "L4.ECONOMIC GROWTH          0.174082         0.484719            0.359           0.719\n",
       "L5.GDP                      0.001811         0.001392            1.301           0.193\n",
       "L5.IMPORTS                 -0.001621         0.002880           -0.563           0.573\n",
       "L5.EXPORTS                  0.002049         0.004381            0.468           0.640\n",
       "L5.ECONOMIC GROWTH         -0.306985         0.495505           -0.620           0.536\n",
       "L6.GDP                     -0.001428         0.001613           -0.886           0.376\n",
       "L6.IMPORTS                  0.002964         0.003463            0.856           0.392\n",
       "L6.EXPORTS                 -0.003996         0.004844           -0.825           0.409\n",
       "L6.ECONOMIC GROWTH          0.103239         0.515069            0.200           0.841\n",
       "L7.GDP                      0.002843         0.001930            1.473           0.141\n",
       "L7.IMPORTS                 -0.002057         0.004100           -0.502           0.616\n",
       "L7.EXPORTS                  0.000883         0.005229            0.169           0.866\n",
       "L7.ECONOMIC GROWTH         -0.556992         0.580006           -0.960           0.337\n",
       "L8.GDP                     -0.003938         0.003932           -1.001           0.317\n",
       "L8.IMPORTS                 -0.003054         0.004009           -0.762           0.446\n",
       "L8.EXPORTS                  0.005062         0.005290            0.957           0.339\n",
       "L8.ECONOMIC GROWTH         -0.233368         0.592427           -0.394           0.694\n",
       "L9.GDP                     -0.002599         0.003946           -0.658           0.510\n",
       "L9.IMPORTS                  0.004322         0.003850            1.122           0.262\n",
       "L9.EXPORTS                  0.001768         0.005406            0.327           0.744\n",
       "L9.ECONOMIC GROWTH          0.463730         0.602594            0.770           0.442\n",
       "L10.GDP                     0.001230         0.003886            0.317           0.752\n",
       "L10.IMPORTS                -0.002475         0.003085           -0.802           0.423\n",
       "L10.EXPORTS                 0.007735         0.004711            1.642           0.101\n",
       "L10.ECONOMIC GROWTH        -0.152938         0.380989           -0.401           0.688\n",
       "======================================================================================\n",
       "\n",
       "Correlation matrix of residuals\n",
       "                        GDP   IMPORTS   EXPORTS  ECONOMIC GROWTH\n",
       "GDP                1.000000 -0.053040  0.186907         0.669137\n",
       "IMPORTS           -0.053040  1.000000  0.639526        -0.394005\n",
       "EXPORTS            0.186907  0.639526  1.000000         0.187550\n",
       "ECONOMIC GROWTH    0.669137 -0.394005  0.187550         1.000000\n",
       "\n"
      ]
     },
     "execution_count": 36,
     "metadata": {},
     "output_type": "execute_result"
    }
   ],
   "source": [
    "model = VAR(train)\n",
    "model_fitted = model.fit(10)\n",
    "model_fitted.summary()"
   ]
  },
  {
   "cell_type": "code",
   "execution_count": 37,
   "id": "1fd0223c",
   "metadata": {},
   "outputs": [
    {
     "name": "stdout",
     "output_type": "stream",
     "text": [
      "GDP : 2.13\n",
      "IMPORTS : 2.04\n",
      "EXPORTS : 1.73\n",
      "ECONOMIC GROWTH : 2.27\n"
     ]
    }
   ],
   "source": [
    "#Check for Serial Correlation of Residuals (Errors) using Durbin Watson Statistic\n",
    "#The value of this statistic can vary between 0 and 4. \n",
    "#The closer it is to the value 2, then there is no significant serial correlation. \n",
    "#The closer to 0, there is a positive serial correlation, \n",
    "#and the closer it is to 4 implies negative serial correlation.\n",
    "\n",
    "\n",
    "from statsmodels.stats.stattools import durbin_watson\n",
    "out = durbin_watson(model_fitted.resid)\n",
    "\n",
    "for col, val in zip(data.columns, out):\n",
    "    print(col, ':', round(val, 2))"
   ]
  },
  {
   "cell_type": "markdown",
   "id": "fbf73ea5",
   "metadata": {},
   "source": [
    "Result: There is no significant correlation between in the residuals\n",
    "\n",
    "Step 6: If two or more of the time-series have the same order of integration, at Step 1, then test to see if they are cointegrated, preferably using Johansen’s methodology (based on your VAR) for a reliable result.\n",
    "\n"
   ]
  },
  {
   "cell_type": "code",
   "execution_count": 41,
   "id": "4b8a385c",
   "metadata": {},
   "outputs": [
    {
     "name": "stdout",
     "output_type": "stream",
     "text": [
      "Eigenvalues:\n",
      "[0.74502471 0.55583727 0.37906755 0.32415494]\n",
      "\n",
      "Eigenvectors (normalised):\n",
      "[[ 5.29795675e-05 -3.18274958e-05 -6.14889748e-04 -7.18691305e-04]\n",
      " [-2.56487205e-03  1.80535514e-03  8.06051161e-04 -2.93260814e-04]\n",
      " [ 3.45339402e-03 -3.97864404e-03  1.40429002e-03 -1.64713273e-03]\n",
      " [-4.76475711e-01 -1.81238334e-01  1.02771230e-01  1.11826128e-01]]\n",
      "\n",
      "Critical values:\n",
      "[[44.4929 47.8545 54.6815]\n",
      " [27.0669 29.7961 35.4628]\n",
      " [13.4294 15.4943 19.9349]\n",
      " [ 2.7055  3.8415  6.6349]]\n",
      "\n",
      "Trace statistics:\n",
      "[268.09000286 147.83020408  76.41254776  34.4776463 ]\n",
      "\n",
      "Maximum eigenvalue statistics:\n",
      "[120.25979879  71.41765632  41.93490146  34.4776463 ]\n"
     ]
    }
   ],
   "source": [
    "# perform Johansen's test to check co-integration\n",
    "\n",
    "from statsmodels.tsa.vector_ar.vecm import coint_johansen\n",
    "\n",
    "variables = ['GDP', 'IMPORTS', 'EXPORTS', 'ECONOMIC GROWTH']\n",
    "\n",
    "# prepare data\n",
    "X = data[variables]\n",
    "\n",
    "# perform Johansen's test\n",
    "result = coint_johansen(X, det_order=0, k_ar_diff=1)\n",
    "\n",
    "# print out results\n",
    "print('Eigenvalues:')\n",
    "print(result.eig)\n",
    "\n",
    "print('\\nEigenvectors (normalised):')\n",
    "print(result.evec)\n",
    "\n",
    "print('\\nCritical values:')\n",
    "print(result.cvt)\n",
    "\n",
    "print('\\nTrace statistics:')\n",
    "print(result.lr1)\n",
    "\n",
    "print('\\nMaximum eigenvalue statistics:')\n",
    "print(result.lr2)\n"
   ]
  },
  {
   "cell_type": "markdown",
   "id": "44bf3923",
   "metadata": {},
   "source": [
    "result: The first part of the output shows the eigenvalues and eigenvectors. The eigenvalues represent the strength of the cointegrating relationship between the time series. In this case, there are four eigenvalues, with the largest being 0.7450 and the smallest being 0.3241. The eigenvectors show the coefficients that define the linear combination of the time series that form the cointegrating relationship.\n",
    "\n",
    "The next part of the output shows the critical values for the test. The critical values are used to determine whether the eigenvalues are statistically significant at a given level of significance. In this case, there are four sets of critical values, each corresponding to a different number of cointegrating relationships.\n",
    "\n",
    "The last part of the output shows the test statistics for the trace and maximum eigenvalue tests. These statistics are used to determine the number of cointegrating relationships. The trace statistic tests the null hypothesis that there are r cointegrating relationships against the alternative that there are r+1 cointegrating relationships. The maximum eigenvalue statistic tests the null hypothesis that there are r cointegrating relationships against the alternative that there are r+1 cointegrating relationships, but with a more powerful test.\n",
    "\n",
    "In this case, the trace statistic values are [268.09, 147.83, 76.41, 34.48], and the maximum eigenvalue statistic values are [120.26, 71.42, 41.93, 34.48]. These values suggest that there are at most 3 cointegrating relationships among the time series."
   ]
  },
  {
   "cell_type": "markdown",
   "id": "ad48b4dc",
   "metadata": {},
   "source": [
    "Step 7: No matter what you conclude about cointegration at Step 6, this is not going to affect what follows. It just provides a possible cross-check on the validity of your results at the very end of the analysis.\n",
    "\n",
    "Step 8: Now take the preferred VAR model and add in m additional lags of each of the variables into each of the equations.\n"
   ]
  },
  {
   "cell_type": "code",
   "execution_count": 42,
   "id": "472dfd44",
   "metadata": {},
   "outputs": [
    {
     "name": "stdout",
     "output_type": "stream",
     "text": [
      "10\n"
     ]
    },
    {
     "name": "stderr",
     "output_type": "stream",
     "text": [
      "C:\\Users\\HP\\anaconda3\\lib\\site-packages\\statsmodels\\tsa\\base\\tsa_model.py:581: ValueWarning: A date index has been provided, but it has no associated frequency information and so will be ignored when e.g. forecasting.\n",
      "  warnings.warn('A date index has been provided, but it has no'\n"
     ]
    }
   ],
   "source": [
    "model = VAR(train)\n",
    "model_fitted = model.fit(10)\n",
    "#get the lag order\n",
    "lag_order = model_fitted.k_ar\n",
    "print(lag_order)"
   ]
  },
  {
   "cell_type": "markdown",
   "id": "cc52b700",
   "metadata": {},
   "source": [
    "Step 9 and Step 10: Test for Granger non-causality. It’s essential that you don’t include the coefficients for the ‘extra’ m lags when you perform the tests. They are there just to fix up the asymptotics.\n",
    "\n"
   ]
  },
  {
   "cell_type": "code",
   "execution_count": 43,
   "id": "1809ca58",
   "metadata": {},
   "outputs": [],
   "source": [
    "from statsmodels.tsa.stattools import grangercausalitytests\n",
    "maxlag=lag_order #becuase we got this value before. We are not suppose to add 1 to it\n",
    "test = 'ssr_chi2test'\n",
    "def grangers_causation_matrix(data, variables, test='ssr_chi2test', verbose=False):    \n",
    "    \"\"\"Check Granger Causality of all possible combinations of the Time series.\n",
    "    The rows are the response variable, columns are predictors. The values in the table \n",
    "    are the P-Values. P-Values lesser than the significance level (0.05), implies \n",
    "    the Null Hypothesis that the coefficients of the corresponding past values is \n",
    "    zero, that is, the X does not cause Y can be rejected.\n",
    "\n",
    "    data      : pandas dataframe containing the time series variables\n",
    "    variables : list containing names of the time series variables.\n",
    "    \"\"\"\n",
    "    df = pd.DataFrame(np.zeros((len(variables), len(variables))), columns=variables, index=variables)\n",
    "    for c in df.columns:\n",
    "        for r in df.index:\n",
    "            test_result = grangercausalitytests(data[[r, c]], maxlag=maxlag, verbose=False)\n",
    "            p_values = [round(test_result[i+1][0][test][1],4) for i in range(maxlag)]\n",
    "            if verbose: print(f'Y = {r}, X = {c}, P Values = {p_values}')\n",
    "            min_p_value = np.min(p_values)\n",
    "            df.loc[r, c] = min_p_value\n",
    "    df.columns = [var + '_x' for var in variables]\n",
    "    df.index = [var + '_y' for var in variables]\n",
    "    return df\n",
    "\n",
    "o = grangers_causation_matrix(train, variables = train.columns)  "
   ]
  },
  {
   "cell_type": "code",
   "execution_count": 44,
   "id": "1ad2270a",
   "metadata": {},
   "outputs": [
    {
     "data": {
      "text/html": [
       "<div>\n",
       "<style scoped>\n",
       "    .dataframe tbody tr th:only-of-type {\n",
       "        vertical-align: middle;\n",
       "    }\n",
       "\n",
       "    .dataframe tbody tr th {\n",
       "        vertical-align: top;\n",
       "    }\n",
       "\n",
       "    .dataframe thead th {\n",
       "        text-align: right;\n",
       "    }\n",
       "</style>\n",
       "<table border=\"1\" class=\"dataframe\">\n",
       "  <thead>\n",
       "    <tr style=\"text-align: right;\">\n",
       "      <th></th>\n",
       "      <th>GDP_x</th>\n",
       "      <th>IMPORTS_x</th>\n",
       "      <th>EXPORTS_x</th>\n",
       "      <th>ECONOMIC GROWTH_x</th>\n",
       "    </tr>\n",
       "  </thead>\n",
       "  <tbody>\n",
       "    <tr>\n",
       "      <th>GDP_y</th>\n",
       "      <td>1.0000</td>\n",
       "      <td>0.0000</td>\n",
       "      <td>0.0000</td>\n",
       "      <td>0.0094</td>\n",
       "    </tr>\n",
       "    <tr>\n",
       "      <th>IMPORTS_y</th>\n",
       "      <td>0.0483</td>\n",
       "      <td>1.0000</td>\n",
       "      <td>0.0000</td>\n",
       "      <td>0.3817</td>\n",
       "    </tr>\n",
       "    <tr>\n",
       "      <th>EXPORTS_y</th>\n",
       "      <td>0.0000</td>\n",
       "      <td>0.0011</td>\n",
       "      <td>1.0000</td>\n",
       "      <td>0.0088</td>\n",
       "    </tr>\n",
       "    <tr>\n",
       "      <th>ECONOMIC GROWTH_y</th>\n",
       "      <td>0.0000</td>\n",
       "      <td>0.0000</td>\n",
       "      <td>0.0092</td>\n",
       "      <td>1.0000</td>\n",
       "    </tr>\n",
       "  </tbody>\n",
       "</table>\n",
       "</div>"
      ],
      "text/plain": [
       "                    GDP_x  IMPORTS_x  EXPORTS_x  ECONOMIC GROWTH_x\n",
       "GDP_y              1.0000     0.0000     0.0000             0.0094\n",
       "IMPORTS_y          0.0483     1.0000     0.0000             0.3817\n",
       "EXPORTS_y          0.0000     0.0011     1.0000             0.0088\n",
       "ECONOMIC GROWTH_y  0.0000     0.0000     0.0092             1.0000"
      ]
     },
     "execution_count": 44,
     "metadata": {},
     "output_type": "execute_result"
    }
   ],
   "source": [
    "o"
   ]
  },
  {
   "cell_type": "markdown",
   "id": "06425515",
   "metadata": {},
   "source": [
    "result: The values in the table represent the p-values for the null hypothesis that the lagged variable does not Granger-cause the other variable. A p-value below a significance level (typically 0.05) would lead to the rejection of the null hypothesis and indicate Granger-causality.\n",
    "\n",
    "In this case, we can see that the variable GDP_x does not Granger-cause any of the other variables, as all the p-values are above the significance level. However, the variable IMPORTS_x does Granger-cause ECONOMIC GROWTH_x, as the p-value is below the significance level. Additionally, EXPORTS_x Granger-causes GDP_x and ECONOMIC GROWTH_x, as the p-values are below the significance level.\n",
    "\n",
    "Overall, these results suggest that there is some causal relationship between these variables, with IMPORTS_x and EXPORTS_x potentially having a causal effect on ECONOMIC GROWTH_x and GDP_x. However, further analysis is needed to determine the direction and strength of these causal relationships."
   ]
  },
  {
   "cell_type": "code",
   "execution_count": null,
   "id": "9dfab7c0",
   "metadata": {},
   "outputs": [],
   "source": []
  }
 ],
 "metadata": {
  "kernelspec": {
   "display_name": "Python 3 (ipykernel)",
   "language": "python",
   "name": "python3"
  },
  "language_info": {
   "codemirror_mode": {
    "name": "ipython",
    "version": 3
   },
   "file_extension": ".py",
   "mimetype": "text/x-python",
   "name": "python",
   "nbconvert_exporter": "python",
   "pygments_lexer": "ipython3",
   "version": "3.9.7"
  }
 },
 "nbformat": 4,
 "nbformat_minor": 5
}
